{
 "cells": [
  {
   "cell_type": "markdown",
   "metadata": {},
   "source": [
    "# FIT5202 Assignment 1 : Analysing eCommerce Data\n",
    "\n",
    "## Table of Contents\n",
    "* \n",
    "    * [Part 1 : Working with RDD](#part-1)\n",
    "        * [1.1 Data Preparation and Loading](#1.1)\n",
    "        * [1.2 Data Partitioning in RDD](#1.2)\n",
    "        * [1.3 Query/Analysis](#1.3)\n",
    "    * [Part 2 : Working with DataFrames](#2-dataframes)\n",
    "        * [2.1 Data Preparation and Loading](#2-dataframes)\n",
    "        * [2.2 Query/Analysis](#2.2)\n",
    "    * [Part 3 :  RDDs vs DataFrame vs Spark SQL](#part-3)"
   ]
  },
  {
   "cell_type": "markdown",
   "metadata": {},
   "source": [
    "# Part 1 : Working with RDDs <a class=\"anchor\" name=\"part-1\"></a>\n",
    "## 1.1 Working with RDD\n",
    "In this section, you will need to create RDDs from the given datasets, perform partitioning in these RDDs and use various RDD operations to answer the queries for retail analysis. \n",
    "\n",
    "### 1.1.1 Data Preparation and Loading <a class=\"anchor\" name=\"1.1\"></a>\n",
    "Write the code to create a SparkContext object using SparkSession. To create a SparkSession you first need to build a SparkConf object that contains information about your application, use Melbourne time as the session timezone. Give an appropriate name for your application and run Spark locally with as many working processors as logical cores on your machine. "
   ]
  },
  {
   "cell_type": "code",
   "execution_count": 79,
   "metadata": {},
   "outputs": [],
   "source": [
    "# Imoport SparkCof from pyspark \n",
    "from pyspark import SparkConf\n",
    "\n",
    "# define cores that can be used to run Spark\n",
    "master = \"local[*]\"\n",
    "# application name\n",
    "app_name = \"MOTH\"\n",
    "\n",
    "# set the configuration\n",
    "# .set(\"spark.cores.max\", \"2\").set(\"spark.executor.memory\", \"4g\")\n",
    "spark_conf = SparkConf().setMaster(master).setAppName(app_name)\\\n",
    "            .set(\"spark.driver.memory\", \"4g\")\\\n",
    "            .set(\"spark.executor.memory\", \"4g\")\\\n",
    "            .set(\"spark.sql.session.timeZone\", \"Australia/Melbourne\")"
   ]
  },
  {
   "cell_type": "code",
   "execution_count": 80,
   "metadata": {},
   "outputs": [],
   "source": [
    "from pyspark.sql import SparkSession\n",
    "\n",
    "# initiate Spark session\n",
    "spark = SparkSession.builder.config(conf=spark_conf).getOrCreate()\n",
    "# initiate spark context with spark session\n",
    "sc = spark.sparkContext\n",
    "sc.setLogLevel('ERROR')"
   ]
  },
  {
   "cell_type": "markdown",
   "metadata": {},
   "source": [
    "1.1.2 Load CUPS csv files into four RDDs."
   ]
  },
  {
   "cell_type": "code",
   "execution_count": 3,
   "metadata": {},
   "outputs": [],
   "source": [
    "# loading datasets into rdd \n",
    "cats_rdd = sc.textFile(\"category.csv\")\n",
    "users_rdd = sc.textFile(\"users.csv\")\n",
    "products_rdd = sc.textFile(\"product.csv\")\n",
    "sales_rdd = sc.textFile(\"sales.csv\")"
   ]
  },
  {
   "cell_type": "markdown",
   "metadata": {},
   "source": [
    "1.1.3 For each RDD, remove the header rows and display the total count and first 10 records. (Hint: You can use csv.reader to parse rows into RDDs.)"
   ]
  },
  {
   "cell_type": "code",
   "execution_count": 4,
   "metadata": {},
   "outputs": [
    {
     "data": {
      "text/plain": [
       "[['2090971686529663114', 'appliances.environment.vacuum'],\n",
       " ['2232732116498514828', 'apparel.jeans'],\n",
       " ['2232732109628244704', 'apparel.shirt'],\n",
       " ['2232732103294845523', 'apparel.shoes.step_ins'],\n",
       " ['2232732086500851925', 'apparel.scarf'],\n",
       " ['2232732100660822557', 'country_yard.cultivator'],\n",
       " ['2053013558282682943', 'construction.tools.drill'],\n",
       " ['2053013562527318829', 'furniture.living_room.cabinet'],\n",
       " ['2110937143172923797', 'construction.tools.light'],\n",
       " ['2074462942123786261', 'kids.toys']]"
      ]
     },
     "execution_count": 4,
     "metadata": {},
     "output_type": "execute_result"
    }
   ],
   "source": [
    "# category\n",
    "# separate data by ','\n",
    "cats_rdd1 = cats_rdd.map(lambda x: x.split(','))\n",
    "# find the headers\n",
    "cats_headers = cats_rdd1.take(1)[0]\n",
    "# remove the headers\n",
    "cats_rdd1 = cats_rdd1.filter(lambda x: x != cats_headers)\n",
    "\n",
    "# show first 10 records \n",
    "cats_rdd1.take(10)"
   ]
  },
  {
   "cell_type": "code",
   "execution_count": 5,
   "metadata": {
    "scrolled": true
   },
   "outputs": [
    {
     "data": {
      "text/plain": [
       "[['514771925',\n",
       "  'MERVYN',\n",
       "  'Unknown',\n",
       "  '1-5-1963',\n",
       "  '30A LUCINDA AVENUE',\n",
       "  '2260',\n",
       "  'NSW',\n",
       "  'male',\n",
       "  'WAMBERAL'],\n",
       " ['531947692',\n",
       "  'FALLON',\n",
       "  'Unknown',\n",
       "  '16-10-2002',\n",
       "  '82 CAMBERWARRA DRIVE',\n",
       "  '6025',\n",
       "  'WA',\n",
       "  'female',\n",
       "  'CRAIGIE'],\n",
       " ['560231306',\n",
       "  'KALIN',\n",
       "  'Unknown',\n",
       "  '19-8-2015',\n",
       "  '74 SOLDIERS ROAD',\n",
       "  '2281',\n",
       "  'NSW',\n",
       "  'male',\n",
       "  'PELICAN'],\n",
       " ['575248835',\n",
       "  'PIETTA',\n",
       "  'Unknown',\n",
       "  '19-1-1962',\n",
       "  '\"UNIT 1',\n",
       "  ' 1 LARK AVENUE\"',\n",
       "  '5023',\n",
       "  'SA',\n",
       "  'female',\n",
       "  'SEATON'],\n",
       " ['575243330',\n",
       "  'SUMMAH',\n",
       "  'Unknown',\n",
       "  '19-4-1973',\n",
       "  '44 CLARENDON ROAD',\n",
       "  '2048',\n",
       "  'NSW',\n",
       "  'female',\n",
       "  'STANMORE'],\n",
       " ['516606243',\n",
       "  'KEIRA',\n",
       "  'Unknown',\n",
       "  '9-6-2011',\n",
       "  '1 VIOLA CLOSE',\n",
       "  '4868',\n",
       "  'QLD',\n",
       "  'female',\n",
       "  'BAYVIEW HEIGHTS'],\n",
       " ['545807768',\n",
       "  'VERITY',\n",
       "  'Unknown',\n",
       "  '1-2-1980',\n",
       "  '31-33 KING STREET',\n",
       "  '3550',\n",
       "  'VIC',\n",
       "  'female',\n",
       "  'BENDIGO'],\n",
       " ['529118965',\n",
       "  'MAXWELL',\n",
       "  'Unknown',\n",
       "  '16-5-2012',\n",
       "  '15 HARWELL WAY',\n",
       "  '6721',\n",
       "  'WA',\n",
       "  'male',\n",
       "  'WEDGEFIELD'],\n",
       " ['518625399',\n",
       "  'NATASHIA',\n",
       "  'Unknown',\n",
       "  '5-6-1973',\n",
       "  '\"UNIT 3',\n",
       "  ' 17 BOX STREET\"',\n",
       "  '6530',\n",
       "  'WA',\n",
       "  'female',\n",
       "  'WEBBERTON'],\n",
       " ['518273873',\n",
       "  'JUSTINE',\n",
       "  'Unknown',\n",
       "  '27-8-2007',\n",
       "  '\"UNIT 909',\n",
       "  ' 112 GODERICH STREET\"',\n",
       "  '6004',\n",
       "  'WA',\n",
       "  'male',\n",
       "  'EAST PERTH']]"
      ]
     },
     "execution_count": 5,
     "metadata": {},
     "output_type": "execute_result"
    }
   ],
   "source": [
    "# users\n",
    "# separate data by ','# separate data by ','\n",
    "users_rdd1 = users_rdd.map(lambda x: x.split(','))\n",
    "# find the headers\n",
    "users_headers = users_rdd1.first()\n",
    "# remove the headers\n",
    "users_rdd1 = users_rdd1.filter(lambda x : x!= users_headers)\n",
    "\n",
    "# show first 10 records \n",
    "users_rdd1.take(10)"
   ]
  },
  {
   "cell_type": "code",
   "execution_count": 6,
   "metadata": {},
   "outputs": [
    {
     "data": {
      "text/plain": [
       "[['100168127', '2053013554096767303', '', '30.8171196068388'],\n",
       " ['7101887', '2232732103764607583', '', '33.6457534471799'],\n",
       " ['100058603', '2053013555438944659', '', '32.1982006550096'],\n",
       " ['100007811', '2232732112782361392', 'etro', '300.111251624047'],\n",
       " ['26400508', '2053013553056579841', '', '139.458912588293'],\n",
       " ['100215722', '2134905019189691101', '', '4.15035271832127'],\n",
       " ['32402016', '2232732115777094520', '', '5.90104832419485'],\n",
       " ['13201248', '2232732061804790604', 'brw', '400.468187201711'],\n",
       " ['2701879', '2053013563911439225', 'beko', '249.969115457257'],\n",
       " ['15300266', '2232732107698864813', '', '2.85509519214549']]"
      ]
     },
     "execution_count": 6,
     "metadata": {},
     "output_type": "execute_result"
    }
   ],
   "source": [
    "# Products \n",
    "# separate data by ','\n",
    "products_rdd1 = products_rdd.map(lambda x: x.split(','))\n",
    "# find the headers\n",
    "products_headers = products_rdd1.first()\n",
    "# remove the headers\n",
    "products_rdd1 = products_rdd1.filter(lambda x: x!= products_headers)\n",
    "\n",
    "# show first 10 records \n",
    "products_rdd1.take(10)"
   ]
  },
  {
   "cell_type": "code",
   "execution_count": 7,
   "metadata": {
    "scrolled": true
   },
   "outputs": [
    {
     "data": {
      "text/plain": [
       "[['338156802',\n",
       "  '2020-03-27 02:03:48.000000 +00:00',\n",
       "  '4804056',\n",
       "  '171.56',\n",
       "  '513119357',\n",
       "  '0ad58441-9db9-48bd-9ee7-accf603f06e0'],\n",
       " ['338156808',\n",
       "  '2020-03-27 02:03:49.000000 +00:00',\n",
       "  '1005223',\n",
       "  '209.53',\n",
       "  '522277649',\n",
       "  '2ecb2725-2c40-4acb-8ef1-05e39ea4c2cc'],\n",
       " ['338156913',\n",
       "  '2020-03-27 02:04:11.000000 +00:00',\n",
       "  '1005212',\n",
       "  '174.25',\n",
       "  '632847510',\n",
       "  '43609582-1818-4885-bd72-3791f3a4ec93'],\n",
       " ['338156921',\n",
       "  '2020-03-27 02:04:13.000000 +00:00',\n",
       "  '1005236',\n",
       "  '231.15',\n",
       "  '626579483',\n",
       "  'bbf972ef-8f8d-4a33-bcbd-ac09af67ea40'],\n",
       " ['338156953',\n",
       "  '2020-03-27 02:04:18.000000 +00:00',\n",
       "  '1005212',\n",
       "  '174.25',\n",
       "  '633245502',\n",
       "  '90166e0d-d7da-4997-b479-bc3a0fd724d6'],\n",
       " ['338156985',\n",
       "  '2020-03-27 02:04:24.000000 +00:00',\n",
       "  '100132156',\n",
       "  '47.5',\n",
       "  '541680528',\n",
       "  '4cd111cc-8716-4720-b7e3-bc3c8ddce98f'],\n",
       " ['338157055',\n",
       "  '2020-03-27 02:04:37.000000 +00:00',\n",
       "  '3500009',\n",
       "  '290.84',\n",
       "  '618162129',\n",
       "  'd0bda424-a759-4941-b9be-5091c28009db'],\n",
       " ['338157122',\n",
       "  '2020-03-27 02:04:48.000000 +00:00',\n",
       "  '2300214',\n",
       "  '386.08',\n",
       "  '626601722',\n",
       "  'ce913646-936a-4b2e-b6bb-9f6e0d781bc5'],\n",
       " ['338157141',\n",
       "  '2020-03-27 02:04:52.000000 +00:00',\n",
       "  '100070443',\n",
       "  '35.01',\n",
       "  '604369152',\n",
       "  'fd55e2cd-dc42-4bf9-a0a1-f207f1c66e5d'],\n",
       " ['338157271',\n",
       "  '2020-03-27 02:05:14.000000 +00:00',\n",
       "  '1306659',\n",
       "  '431.09',\n",
       "  '616395888',\n",
       "  'a934f0d6-5fa6-475d-83df-528364fc8c31']]"
      ]
     },
     "execution_count": 7,
     "metadata": {},
     "output_type": "execute_result"
    }
   ],
   "source": [
    "# sales \n",
    "# separate data by ','\n",
    "sales_rdd1 = sales_rdd.map(lambda x: x.split(','))\n",
    "# find the headers\n",
    "sales_headers = sales_rdd1.first()\n",
    "# remove the headers \n",
    "sales_rdd1 = sales_rdd1.filter(lambda x: x!= sales_headers)\n",
    "\n",
    "# show the first 10 records\n",
    "sales_rdd1.take(10)"
   ]
  },
  {
   "cell_type": "markdown",
   "metadata": {},
   "source": [
    "1.1.4 Drop unnecessary columns from RDDs: firstname, lastname, user_session."
   ]
  },
  {
   "cell_type": "code",
   "execution_count": 8,
   "metadata": {},
   "outputs": [
    {
     "data": {
      "text/plain": [
       "[['514771925',\n",
       "  '1-5-1963',\n",
       "  '30A LUCINDA AVENUE',\n",
       "  '2260',\n",
       "  'NSW',\n",
       "  'male',\n",
       "  'WAMBERAL']]"
      ]
     },
     "execution_count": 8,
     "metadata": {},
     "output_type": "execute_result"
    }
   ],
   "source": [
    "# drop firstname and lastname from users\n",
    "users_rdd1 = users_rdd1.map(lambda x: x[:1] + x[3:])\n",
    "\n",
    "users_rdd1.take(1)"
   ]
  },
  {
   "cell_type": "code",
   "execution_count": 9,
   "metadata": {},
   "outputs": [
    {
     "data": {
      "text/plain": [
       "[['338156802',\n",
       "  '2020-03-27 02:03:48.000000 +00:00',\n",
       "  '4804056',\n",
       "  '171.56',\n",
       "  '513119357']]"
      ]
     },
     "execution_count": 9,
     "metadata": {},
     "output_type": "execute_result"
    }
   ],
   "source": [
    "# drop user_session fom sales\n",
    "sales_rdd1 = sales_rdd1.map(lambda x : x[:-1])\n",
    "\n",
    "sales_rdd1.take(1)"
   ]
  },
  {
   "cell_type": "markdown",
   "metadata": {},
   "source": [
    "### 1.2 Data Partitioning in RDD <a class=\"anchor\" name=\"1.2\"></a>\n",
    "1.2.1 For each RDD, print out the total number of partitions and the number of records in each partition. Answer the following questions: How many partitions do the above RDDs have? How is the data in these RDDs partitioned by default, when we do not explicitly specify any partitioning strategy? Can you explain why it will be partitioned in this number? If I only have one single core CPU in my PC, what is the default partition's number? (Hint: search the Spark source code to try to answer this question.) Write code and your explanation in Markdown cells."
   ]
  },
  {
   "cell_type": "code",
   "execution_count": 10,
   "metadata": {},
   "outputs": [],
   "source": [
    "from pyspark.rdd import RDD"
   ]
  },
  {
   "cell_type": "code",
   "execution_count": 11,
   "metadata": {},
   "outputs": [],
   "source": [
    "# define function that is used to print needed information\n",
    "def print_partition(rdd):\n",
    "    # get number of partitions\n",
    "    num_partitions = rdd.getNumPartitions()\n",
    "    \n",
    "    print(f\"Number of partitions: {num_partitions}\")\n",
    "    print(f\"Method of partition: {rdd.partitioner}\")\n",
    "    \n",
    "    # Instead of using glom().collect to collect all data, I use mapPartitions to count records in each partition then collect\n",
    "    ## only the result of counting\n",
    "    partition_sizes = rdd.mapPartitions(lambda partition: [sum(1 for _ in partition)]).collect()\n",
    "    \n",
    "    # loop through each element and displays idx and number of records \n",
    "    for idx, partition_size in enumerate(partition_sizes):\n",
    "        print(f\"Partition {idx}\")\n",
    "        print(f\"Number of records: {partition_size}\")"
   ]
  },
  {
   "cell_type": "code",
   "execution_count": 12,
   "metadata": {},
   "outputs": [
    {
     "name": "stdout",
     "output_type": "stream",
     "text": [
      "Number of partitions: 2\n",
      "Method of partition: None\n",
      "Partition 0\n",
      "Number of records: 647\n",
      "Partition 1\n",
      "Number of records: 817\n"
     ]
    }
   ],
   "source": [
    "# print information from category\n",
    "print_partition(cats_rdd1)"
   ]
  },
  {
   "cell_type": "code",
   "execution_count": 13,
   "metadata": {
    "scrolled": true
   },
   "outputs": [
    {
     "name": "stdout",
     "output_type": "stream",
     "text": [
      "Number of partitions: 39\n",
      "Method of partition: None\n",
      "Partition 0\n",
      "Number of records: 407684\n",
      "Partition 1\n",
      "Number of records: 407751\n",
      "Partition 2\n",
      "Number of records: 407663\n",
      "Partition 3\n",
      "Number of records: 407640\n",
      "Partition 4\n",
      "Number of records: 407740\n",
      "Partition 5\n",
      "Number of records: 407698\n",
      "Partition 6\n",
      "Number of records: 407764\n",
      "Partition 7\n",
      "Number of records: 407723\n",
      "Partition 8\n",
      "Number of records: 407732\n",
      "Partition 9\n",
      "Number of records: 407782\n",
      "Partition 10\n",
      "Number of records: 407851\n",
      "Partition 11\n",
      "Number of records: 407787\n",
      "Partition 12\n",
      "Number of records: 407659\n",
      "Partition 13\n",
      "Number of records: 407782\n",
      "Partition 14\n",
      "Number of records: 407827\n",
      "Partition 15\n",
      "Number of records: 407766\n",
      "Partition 16\n",
      "Number of records: 407888\n",
      "Partition 17\n",
      "Number of records: 407701\n",
      "Partition 18\n",
      "Number of records: 407788\n",
      "Partition 19\n",
      "Number of records: 407748\n",
      "Partition 20\n",
      "Number of records: 407745\n",
      "Partition 21\n",
      "Number of records: 407862\n",
      "Partition 22\n",
      "Number of records: 407724\n",
      "Partition 23\n",
      "Number of records: 407781\n",
      "Partition 24\n",
      "Number of records: 407785\n",
      "Partition 25\n",
      "Number of records: 407745\n",
      "Partition 26\n",
      "Number of records: 407680\n",
      "Partition 27\n",
      "Number of records: 407655\n",
      "Partition 28\n",
      "Number of records: 407691\n",
      "Partition 29\n",
      "Number of records: 407780\n",
      "Partition 30\n",
      "Number of records: 407737\n",
      "Partition 31\n",
      "Number of records: 407740\n",
      "Partition 32\n",
      "Number of records: 407693\n",
      "Partition 33\n",
      "Number of records: 407728\n",
      "Partition 34\n",
      "Number of records: 407713\n",
      "Partition 35\n",
      "Number of records: 407799\n",
      "Partition 36\n",
      "Number of records: 407740\n",
      "Partition 37\n",
      "Number of records: 407682\n",
      "Partition 38\n",
      "Number of records: 145549\n"
     ]
    }
   ],
   "source": [
    "# print information from users\n",
    "print_partition(users_rdd1)"
   ]
  },
  {
   "cell_type": "code",
   "execution_count": 14,
   "metadata": {},
   "outputs": [
    {
     "name": "stdout",
     "output_type": "stream",
     "text": [
      "Number of partitions: 2\n",
      "Method of partition: None\n",
      "Partition 0\n",
      "Number of records: 104192\n",
      "Partition 1\n",
      "Number of records: 104098\n"
     ]
    }
   ],
   "source": [
    "# print information from products\n",
    "print_partition(products_rdd1)"
   ]
  },
  {
   "cell_type": "code",
   "execution_count": 15,
   "metadata": {
    "scrolled": true
   },
   "outputs": [
    {
     "name": "stdout",
     "output_type": "stream",
     "text": [
      "Number of partitions: 22\n",
      "Method of partition: None\n",
      "Partition 0\n",
      "Number of records: 315832\n",
      "Partition 1\n",
      "Number of records: 315940\n",
      "Partition 2\n",
      "Number of records: 316009\n",
      "Partition 3\n",
      "Number of records: 319748\n",
      "Partition 4\n",
      "Number of records: 319808\n",
      "Partition 5\n",
      "Number of records: 319827\n",
      "Partition 6\n",
      "Number of records: 319861\n",
      "Partition 7\n",
      "Number of records: 319855\n",
      "Partition 8\n",
      "Number of records: 317174\n",
      "Partition 9\n",
      "Number of records: 316760\n",
      "Partition 10\n",
      "Number of records: 316656\n",
      "Partition 11\n",
      "Number of records: 316733\n",
      "Partition 12\n",
      "Number of records: 316682\n",
      "Partition 13\n",
      "Number of records: 316607\n",
      "Partition 14\n",
      "Number of records: 316439\n",
      "Partition 15\n",
      "Number of records: 316229\n",
      "Partition 16\n",
      "Number of records: 316253\n",
      "Partition 17\n",
      "Number of records: 316229\n",
      "Partition 18\n",
      "Number of records: 316133\n",
      "Partition 19\n",
      "Number of records: 316127\n",
      "Partition 20\n",
      "Number of records: 316023\n",
      "Partition 21\n",
      "Number of records: 187899\n"
     ]
    }
   ],
   "source": [
    "# print information from sales\n",
    "print_partition(sales_rdd1)"
   ]
  },
  {
   "cell_type": "markdown",
   "metadata": {},
   "source": [
    "**ANS**\n",
    "1. Category rdd has 2 partitions\n",
    "2. User rdd has 39 partitions\n",
    "3. Product rdd has 2 partitions\n",
    "4. Sales rdd has 22 partitions"
   ]
  },
  {
   "cell_type": "markdown",
   "metadata": {},
   "source": [
    "By default Spark will utilise Random Equal Partitioning as a defalut method."
   ]
  },
  {
   "cell_type": "markdown",
   "metadata": {},
   "source": [
    "Accordnig to source code, if number of cores is more than one and our data is less than 128 Mb, the defulat number of partitions will be 2 (in this case product and category). When data is greater than 128 Mb (one blocks), they will be divided into many 128-Mb blocks (ie: users and sales). "
   ]
  },
  {
   "cell_type": "markdown",
   "metadata": {},
   "source": [
    "When a computer has a single core, it cannot achive parallelism, hence there will be only one partition."
   ]
  },
  {
   "cell_type": "markdown",
   "metadata": {},
   "source": [
    "1.2.2. Create a user defined function (UDF) to transform category_code to capitalized words. (e.g. apparel.shoes.ballet_shoes shall be converted to “Apparel Shots Ballet_shoes)."
   ]
  },
  {
   "cell_type": "code",
   "execution_count": 16,
   "metadata": {},
   "outputs": [],
   "source": [
    "# define udf \n",
    "def capitalize(data):\n",
    "    # separate by .\n",
    "    cat_code = data[1].split('.')\n",
    "    # define initial word\n",
    "    full_word = ''\n",
    "    \n",
    "    # loop throng list of cat_code\n",
    "    for word in cat_code:\n",
    "        # capitallize each word\n",
    "        word = word.capitalize()\n",
    "        # add to the initial word follow by space\n",
    "        full_word += word + ' '\n",
    "        \n",
    "    # remove space at the end of the word \n",
    "    full_word = full_word[:-1]\n",
    "    # return catagory_id and code\n",
    "    return [data[0] ,full_word]"
   ]
  },
  {
   "cell_type": "code",
   "execution_count": 17,
   "metadata": {},
   "outputs": [],
   "source": [
    "cats_rdd1 = cats_rdd1.map(lambda x: capitalize(x))"
   ]
  },
  {
   "cell_type": "code",
   "execution_count": 18,
   "metadata": {},
   "outputs": [
    {
     "data": {
      "text/plain": [
       "[['2090971686529663114', 'Appliances Environment Vacuum']]"
      ]
     },
     "execution_count": 18,
     "metadata": {},
     "output_type": "execute_result"
    }
   ],
   "source": [
    "cats_rdd1.take(1)"
   ]
  },
  {
   "cell_type": "markdown",
   "metadata": {},
   "source": [
    "1.2.3. Join Product and Category RDDs and Create a new key value RDD, using brand as the key and all of the categories of that brand as the value. Print out the first 5 records of the key-value RDD."
   ]
  },
  {
   "cell_type": "code",
   "execution_count": 19,
   "metadata": {},
   "outputs": [],
   "source": [
    "# join between cat and product\n",
    "joined_rdd = cats_rdd1.join(products_rdd1.map(lambda x: [x[1], x[2], x[0]]))"
   ]
  },
  {
   "cell_type": "code",
   "execution_count": 20,
   "metadata": {},
   "outputs": [],
   "source": [
    "# define function[(brand1, (cat1))....]\n",
    "def extract_key_value(data):\n",
    "    # filter the brand name with ''\n",
    "    if data[1][1] != '':\n",
    "        # split cat_code \n",
    "        cat = tuple(data[1][0].split(' '))\n",
    "        # return brand and list of cat_code\n",
    "        return data[1][1], cat"
   ]
  },
  {
   "cell_type": "code",
   "execution_count": 21,
   "metadata": {},
   "outputs": [],
   "source": [
    "# map the extract key value function and filter None out from the rdd\n",
    "joined_rdd = joined_rdd.map(lambda x: extract_key_value(x))\\\n",
    "            .filter(lambda x: x is not None)"
   ]
  },
  {
   "cell_type": "code",
   "execution_count": 22,
   "metadata": {},
   "outputs": [
    {
     "data": {
      "text/plain": [
       "[('bravat', ('Furniture', 'Living_room', 'Cabinet'))]"
      ]
     },
     "execution_count": 22,
     "metadata": {},
     "output_type": "execute_result"
    }
   ],
   "source": [
    "joined_rdd.take(1)"
   ]
  },
  {
   "cell_type": "code",
   "execution_count": 23,
   "metadata": {},
   "outputs": [],
   "source": [
    "# define zero_value, seq_func, com_func\n",
    "zero_value = []\n",
    "\n",
    "# define sequence function\n",
    "def seq_func(init, value):\n",
    "    # turn tuple to list\n",
    "    value = list(value,)\n",
    "    # concat initial list and value list\n",
    "    value_list = init + value\n",
    "    # find the unique value in list \n",
    "    value_list = list(set(value_list))\n",
    "    return value_list\n",
    "\n",
    "# define combined function\n",
    "def com_func(acc1, acc2):\n",
    "    # concat value_lists\n",
    "    full_list = acc1 + acc2\n",
    "    # find the unique value for combined list\n",
    "    full_list = list(set(full_list))\n",
    "    return full_list"
   ]
  },
  {
   "cell_type": "code",
   "execution_count": 24,
   "metadata": {},
   "outputs": [],
   "source": [
    "# apply aggrageateByKey\n",
    "joined_rdd = joined_rdd.aggregateByKey(zero_value, seq_func, com_func)"
   ]
  },
  {
   "cell_type": "code",
   "execution_count": 25,
   "metadata": {},
   "outputs": [],
   "source": [
    "# transforma data from list to tuple\n",
    "joined_rdd = joined_rdd.map(lambda x: (x[0], tuple(x[1])))"
   ]
  },
  {
   "cell_type": "code",
   "execution_count": 26,
   "metadata": {
    "scrolled": true
   },
   "outputs": [
    {
     "data": {
      "text/plain": [
       "[('domani-spa',\n",
       "  ('Electronics',\n",
       "   'Furniture',\n",
       "   'Clocks',\n",
       "   'Cabinet',\n",
       "   'Others',\n",
       "   'Living_room',\n",
       "   'Bathroom',\n",
       "   'Bath')),\n",
       " ('midea',\n",
       "  ('Videoregister',\n",
       "   'Costume',\n",
       "   'Camera',\n",
       "   'Photo',\n",
       "   'Dishwasher',\n",
       "   'Kitchen',\n",
       "   'Construction',\n",
       "   'Washer',\n",
       "   'Oven',\n",
       "   'Air_conditioner',\n",
       "   'Hob',\n",
       "   'Welding',\n",
       "   'Swing',\n",
       "   'Blender',\n",
       "   'Cooler',\n",
       "   'Electronics',\n",
       "   'Others',\n",
       "   'Bedroom',\n",
       "   'Microwave',\n",
       "   'Hood',\n",
       "   'Refrigerators',\n",
       "   'Components',\n",
       "   'Tools',\n",
       "   'Appliances',\n",
       "   'Air_heater',\n",
       "   'Clocks',\n",
       "   'Blanket',\n",
       "   'Computers',\n",
       "   'Accessories',\n",
       "   'Iron',\n",
       "   'Generator',\n",
       "   'Massager',\n",
       "   'Kids',\n",
       "   'Belt',\n",
       "   'Auto',\n",
       "   'Furniture',\n",
       "   'Personal',\n",
       "   'Environment',\n",
       "   'Apparel',\n",
       "   'Tshirt',\n",
       "   'Vacuum',\n",
       "   'Water_heater')),\n",
       " ('fissman',\n",
       "  ('Camera',\n",
       "   'Chair',\n",
       "   'Kitchen',\n",
       "   'Construction',\n",
       "   'Bag',\n",
       "   'Electronics',\n",
       "   'Others',\n",
       "   'Printer',\n",
       "   'Tools',\n",
       "   'Appliances',\n",
       "   'Peripherals',\n",
       "   'Computers',\n",
       "   'Accessories',\n",
       "   'Generator',\n",
       "   'Living_room',\n",
       "   'Keds',\n",
       "   'Furniture',\n",
       "   'Kettle',\n",
       "   'Subwoofer',\n",
       "   'Apparel',\n",
       "   'Tshirt',\n",
       "   'Audio',\n",
       "   'Telephone',\n",
       "   'Shoes')),\n",
       " ('bona',\n",
       "  ('Others', 'Computers', 'Components', 'Apparel', 'Tshirt', 'Cooler')),\n",
       " ('komfort-s',\n",
       "  ('Furniture',\n",
       "   'Sofa',\n",
       "   'Bed',\n",
       "   'Others',\n",
       "   'Trousers',\n",
       "   'Computers',\n",
       "   'Bedroom',\n",
       "   'Living_room',\n",
       "   'Chair',\n",
       "   'Apparel',\n",
       "   'Tshirt',\n",
       "   'Desktop',\n",
       "   'Table',\n",
       "   'Kitchen',\n",
       "   'Shirt'))]"
      ]
     },
     "execution_count": 26,
     "metadata": {},
     "output_type": "execute_result"
    }
   ],
   "source": [
    "joined_rdd.take(5)"
   ]
  },
  {
   "cell_type": "markdown",
   "metadata": {},
   "source": [
    "### 1.3 Query/Analysis <a class=\"anchor\" name=\"1.3\"></a>\n",
    "For this part, write relevant RDD operations to answer the following queries.\n",
    "\n",
    "**1.3.1 Calculate the average daily sales for each year, each month. Print the results as the following format(see assignment specification).**"
   ]
  },
  {
   "cell_type": "code",
   "execution_count": 27,
   "metadata": {},
   "outputs": [],
   "source": [
    "# import re for regex\n",
    "import re\n",
    "# import calendat for function related to time/date\n",
    "import calendar"
   ]
  },
  {
   "cell_type": "code",
   "execution_count": 28,
   "metadata": {},
   "outputs": [],
   "source": [
    "# define function for extracting year month day and price\n",
    "def extract_year_month_day_price(data):\n",
    "    # define a pattern for date\n",
    "    date_pattern = re.compile(r'\\d{4}-\\d{2}-\\d{2}')\n",
    "    # search and return matches\n",
    "    match = date_pattern.search(data[1]).group()\n",
    "    # retrun as key value \n",
    "    return match, float(data[3])"
   ]
  },
  {
   "cell_type": "code",
   "execution_count": 29,
   "metadata": {},
   "outputs": [],
   "source": [
    "# apply the function to sales\n",
    "sales_rdd2 = sales_rdd1.map(lambda x: extract_year_month_day_price(x))"
   ]
  },
  {
   "cell_type": "code",
   "execution_count": 30,
   "metadata": {},
   "outputs": [],
   "source": [
    "# define function initial value and function for aggregatebyKey\n",
    "# define initial value\n",
    "initial = 0\n",
    "def seq_func(init_value, value):\n",
    "    # sum price with same key\n",
    "    sum_value = init_value + value\n",
    "    return sum_value\n",
    "\n",
    "def com_func(acc1, acc2):\n",
    "    # sum price between partitions\n",
    "    total_value = acc1 + acc2\n",
    "    return total_value"
   ]
  },
  {
   "cell_type": "code",
   "execution_count": 31,
   "metadata": {},
   "outputs": [],
   "source": [
    "# apply the aggregate function\n",
    "sales_rdd3 = sales_rdd2.aggregateByKey(initial, seq_func, com_func)"
   ]
  },
  {
   "cell_type": "code",
   "execution_count": 32,
   "metadata": {},
   "outputs": [
    {
     "data": {
      "text/plain": [
       "[('2020-03-31', 7251127.0900001135),\n",
       " ('2020-04-03', 8612723.350000067),\n",
       " ('2020-04-06', 6961658.569999886),\n",
       " ('2020-04-27', 9614887.47999989),\n",
       " ('2019-11-23', 6339110.070000217)]"
      ]
     },
     "execution_count": 32,
     "metadata": {},
     "output_type": "execute_result"
    }
   ],
   "source": [
    "sales_rdd3.take(5)"
   ]
  },
  {
   "cell_type": "code",
   "execution_count": 33,
   "metadata": {},
   "outputs": [],
   "source": [
    "# defind function that extract only year, month and price\n",
    "def extract_year_month_price(data):\n",
    "    date_pattern = re.compile(r'\\d{4}-\\d{2}')\n",
    "    match = date_pattern.search(data[0]).group()\n",
    "    # retrun as key value \n",
    "    return match, data[1]"
   ]
  },
  {
   "cell_type": "code",
   "execution_count": 34,
   "metadata": {},
   "outputs": [],
   "source": [
    "# transform data \n",
    "sales_rdd3 = sales_rdd3.map(lambda x : extract_year_month_price(x))"
   ]
  },
  {
   "cell_type": "code",
   "execution_count": 35,
   "metadata": {},
   "outputs": [
    {
     "data": {
      "text/plain": [
       "[('2020-03', 7251127.0900001135)]"
      ]
     },
     "execution_count": 35,
     "metadata": {},
     "output_type": "execute_result"
    }
   ],
   "source": [
    "sales_rdd3.take(1)"
   ]
  },
  {
   "cell_type": "code",
   "execution_count": 36,
   "metadata": {},
   "outputs": [],
   "source": [
    "# define aggregate function that return sum of price for each month and days count\n",
    "initial = (0, 0) # (value, count)\n",
    "def seq_func(init_value, value):\n",
    "    # sum price\n",
    "    sum_value = init_value[0] + value\n",
    "    # increse count 1\n",
    "    count = init_value[1] + 1\n",
    "    return sum_value, count\n",
    "\n",
    "def com_func(acc1, acc2):\n",
    "    # sum all prices\n",
    "    total_value = acc1[0] + acc2[0]\n",
    "    # sum all count\n",
    "    total_count = acc1[1] + acc2[1]\n",
    "    return total_value, total_count"
   ]
  },
  {
   "cell_type": "code",
   "execution_count": 37,
   "metadata": {},
   "outputs": [],
   "source": [
    "# appy the aggregate function\n",
    "sales_rdd3 = sales_rdd3.aggregateByKey(initial, seq_func, com_func)"
   ]
  },
  {
   "cell_type": "code",
   "execution_count": 38,
   "metadata": {},
   "outputs": [
    {
     "data": {
      "text/plain": [
       "[('2020-02', (381178935.42000693, 29))]"
      ]
     },
     "execution_count": 38,
     "metadata": {},
     "output_type": "execute_result"
    }
   ],
   "source": [
    "sales_rdd3.take(1)"
   ]
  },
  {
   "cell_type": "code",
   "execution_count": 39,
   "metadata": {},
   "outputs": [],
   "source": [
    "# find the avg daily sales\n",
    "sales_rdd3 = sales_rdd3.map(lambda x: (x[0], round(x[1][0] / x[1][1], 2)))\n",
    "\n",
    "# sort by year and month \n",
    "sales_rdd3 = sales_rdd3.sortBy(lambda x: x[0])\n",
    "\n",
    "# collect as list\n",
    "sales_summary_list = sales_rdd3.collect()"
   ]
  },
  {
   "cell_type": "code",
   "execution_count": 40,
   "metadata": {},
   "outputs": [
    {
     "name": "stdout",
     "output_type": "stream",
     "text": [
      "+----+-----+------------------+\n",
      "|Year|Month|         avg sales|\n",
      "+----+-----+------------------+\n",
      "|2019|   10|        7417983.94|\n",
      "|2019|   11|        9489478.98|\n",
      "|2019|   12|       11102478.36|\n",
      "|2020|   01|        8701162.34|\n",
      "|2020|   02|       13144101.22|\n",
      "|2020|   03|       10367045.43|\n",
      "|2020|   04|        8150859.74|\n",
      "+----+-----+------------------+\n"
     ]
    }
   ],
   "source": [
    "# print the desire output\n",
    "print(f'''+----+-----+------------------+\n",
    "|Year|Month|         avg sales|\n",
    "+----+-----+------------------+''')\n",
    "for item in sales_summary_list:\n",
    "    print(\"|{:<4}|{:>5}|{:>18.2f}|\".format(item[0][:4], item[0][5:], item[1]))\n",
    "print('+----+-----+------------------+')"
   ]
  },
  {
   "cell_type": "markdown",
   "metadata": {},
   "source": [
    "**1.3.2 Find 10 of the best selling brands. You should display the brand and total revenue in the result.**"
   ]
  },
  {
   "cell_type": "code",
   "execution_count": 41,
   "metadata": {},
   "outputs": [],
   "source": [
    "# find product id with maximum category_id\n",
    "products_rdd2 = products_rdd1.map(lambda x: (x[0], int(x[1])))"
   ]
  },
  {
   "cell_type": "code",
   "execution_count": 42,
   "metadata": {},
   "outputs": [],
   "source": [
    "# define function that use for aggregate all catagory_id under on product_id\n",
    "init = []\n",
    "\n",
    "def seq_func(initial,data):\n",
    "    initial.append(data)\n",
    "    return initial\n",
    "\n",
    "def com_func(acc1, acc2):\n",
    "    all_cat_id = acc1 + acc2\n",
    "    return all_cat_id"
   ]
  },
  {
   "cell_type": "code",
   "execution_count": 43,
   "metadata": {},
   "outputs": [],
   "source": [
    "# apply the function \n",
    "products_rdd2 = products_rdd2.aggregateByKey(init, seq_func, com_func)"
   ]
  },
  {
   "cell_type": "code",
   "execution_count": 44,
   "metadata": {},
   "outputs": [
    {
     "data": {
      "text/plain": [
       "[('100168127', [2053013554096767303]), ('100007811', [2232732112782361392])]"
      ]
     },
     "execution_count": 44,
     "metadata": {},
     "output_type": "execute_result"
    }
   ],
   "source": [
    "products_rdd2.take(2)"
   ]
  },
  {
   "cell_type": "code",
   "execution_count": 45,
   "metadata": {},
   "outputs": [],
   "source": [
    "# finding max category_id in value list\n",
    "products_rdd2 = products_rdd2.map(lambda x: (x[0], max(x[1])))"
   ]
  },
  {
   "cell_type": "code",
   "execution_count": 46,
   "metadata": {},
   "outputs": [],
   "source": [
    "# transform product_rdd2 to key value rdd\n",
    "products_rdd2 = products_rdd2.map(lambda x: ((x[0], x[1]), 1))"
   ]
  },
  {
   "cell_type": "code",
   "execution_count": 47,
   "metadata": {},
   "outputs": [],
   "source": [
    "# transform product_rdd1 to key value pair and remove brand name with ''\n",
    "products_rdd3 = products_rdd1.map(lambda x: ((x[0], int(x[1])), x[2]))\\\n",
    "                .filter(lambda x: x[1] != '')"
   ]
  },
  {
   "cell_type": "code",
   "execution_count": 48,
   "metadata": {},
   "outputs": [],
   "source": [
    "# joining products_rdd2 with products_rdd3 filter out all None \n",
    "joined_products_rdd = products_rdd2.leftOuterJoin(products_rdd3)\\\n",
    "                    .map(lambda x: (x[0], x[1][1]))\\\n",
    "                    .filter(lambda x: x[1] is not None)"
   ]
  },
  {
   "cell_type": "code",
   "execution_count": 49,
   "metadata": {},
   "outputs": [
    {
     "data": {
      "text/plain": [
       "[(('2500859', 2232732092565815652), ['asel', 'optima']),\n",
       " (('100167775', 2232732113310843708), ['decathlon', 'quechua']),\n",
       " (('22700129', 2232732091643068746), ['stels', 'force']),\n",
       " (('31000205', 2232732115072451430), ['craft', 'deeper']),\n",
       " (('31501238', 2232732115617710964), ['blanco', 'luminarc'])]"
      ]
     },
     "execution_count": 49,
     "metadata": {},
     "output_type": "execute_result"
    }
   ],
   "source": [
    "# we can see that one product_id and one category_id are belong to multiple brand\n",
    "joined_products_rdd.aggregateByKey(init, seq_func, com_func)\\\n",
    ".filter(lambda x: len(x[1])>1).take(5)"
   ]
  },
  {
   "cell_type": "code",
   "execution_count": 50,
   "metadata": {},
   "outputs": [],
   "source": [
    "# reduce join to a key value pair with brands under the key \n",
    "joined_products_rdd = joined_products_rdd.aggregateByKey(init, seq_func, com_func)"
   ]
  },
  {
   "cell_type": "code",
   "execution_count": 51,
   "metadata": {},
   "outputs": [],
   "source": [
    "# reduce the list of brands to one brad at index 0\n",
    "joined_products_rdd = joined_products_rdd.map(lambda x: (x[0],x[1][0]) if len(x[1]) > 1 else x)"
   ]
  },
  {
   "cell_type": "code",
   "execution_count": 52,
   "metadata": {},
   "outputs": [],
   "source": [
    "# transform joined_products_rdd\n",
    "joined_products_rdd = joined_products_rdd.map(lambda x: (x[0][0], x[1][0]))"
   ]
  },
  {
   "cell_type": "code",
   "execution_count": 53,
   "metadata": {},
   "outputs": [],
   "source": [
    "# transform sales to key value pairs\n",
    "sales_rdd4 = sales_rdd1.map(lambda x: (x[2], x[3]))"
   ]
  },
  {
   "cell_type": "code",
   "execution_count": 54,
   "metadata": {},
   "outputs": [],
   "source": [
    "# join sales info and product info\n",
    "joined_sales_products = sales_rdd4.leftOuterJoin(joined_products_rdd)\\\n",
    "                        .map(lambda x: (x[1][1], float(x[1][0])))"
   ]
  },
  {
   "cell_type": "code",
   "execution_count": 55,
   "metadata": {},
   "outputs": [],
   "source": [
    "# reduce by key filter out all None then sort by desc\n",
    "top_ten = joined_sales_products.reduceByKey(lambda x, y: x+y)\\\n",
    ".filter(lambda x: x[0] is not None)\\\n",
    ".sortBy(lambda x: x[1], ascending =False).take(10)"
   ]
  },
  {
   "cell_type": "code",
   "execution_count": 56,
   "metadata": {},
   "outputs": [
    {
     "data": {
      "text/plain": [
       "[('apple', 929384775.6401131),\n",
       " ('samsung', 425969696.7500096),\n",
       " ('xiaomi', 91068828.39000347),\n",
       " ('huawei', 42307012.609998636),\n",
       " ('lg', 38228972.82999976),\n",
       " ('sony', 28529954.99999871),\n",
       " ('lucente', 28392306.440000042),\n",
       " ('acer', 27610850.920000117),\n",
       " ('oppo', 26143937.059998218),\n",
       " ('lenovo', 23722112.01999936)]"
      ]
     },
     "execution_count": 56,
     "metadata": {},
     "output_type": "execute_result"
    }
   ],
   "source": [
    "top_ten"
   ]
  },
  {
   "cell_type": "markdown",
   "metadata": {},
   "source": [
    "## Part 2. Working with DataFrames <a class=\"anchor\" name=\"2-dataframes\"></a>\n",
    "In this section, you will need to load the given datasets into PySpark DataFrames and use DataFrame functions to answer the queries.\n",
    "### 2.1 Data Preparation and Loading\n",
    "\n",
    "**2.1.1. Load CUPS into four separate dataframes. When you create your dataframes, please refer to the metadata file and think about the appropriate data type for each columns (Note: Initially, you should read date/time related column as the string type).**"
   ]
  },
  {
   "cell_type": "code",
   "execution_count": 66,
   "metadata": {},
   "outputs": [],
   "source": [
    "from pyspark.sql.types import *"
   ]
  },
  {
   "cell_type": "code",
   "execution_count": 57,
   "metadata": {},
   "outputs": [],
   "source": [
    "df_cat = spark.read.csv(\"category.csv\", header=True, inferSchema=True)\n",
    "df_user = spark.read.csv(\"users.csv\", header=True, inferSchema=True)\n",
    "df_prod = spark.read.csv(\"product.csv\", header=True, inferSchema=True)"
   ]
  },
  {
   "cell_type": "code",
   "execution_count": 70,
   "metadata": {},
   "outputs": [],
   "source": [
    "sale_data_type = StructType([\n",
    "    StructField('id', StringType(), nullable=True),\n",
    "    StructField('sales_timestamp', StringType(), nullable=True),\n",
    "    StructField('product_id', IntegerType(), nullable=True),\n",
    "    StructField('price', DoubleType(), nullable=True),\n",
    "    StructField('user_id', IntegerType(), nullable=True),\n",
    "    StructField('user_session', StringType(), nullable=True)\n",
    "])"
   ]
  },
  {
   "cell_type": "code",
   "execution_count": 71,
   "metadata": {},
   "outputs": [],
   "source": [
    "df_sale = spark.read.csv(\"sales.csv\", header=True, schema=sale_data_type)"
   ]
  },
  {
   "cell_type": "markdown",
   "metadata": {},
   "source": [
    "**2.1.2 Display the schema of the four dataframes.**"
   ]
  },
  {
   "cell_type": "code",
   "execution_count": 58,
   "metadata": {},
   "outputs": [
    {
     "name": "stdout",
     "output_type": "stream",
     "text": [
      "root\n",
      " |-- category_id: long (nullable = true)\n",
      " |-- category_code: string (nullable = true)\n",
      "\n"
     ]
    }
   ],
   "source": [
    "df_cat.printSchema()"
   ]
  },
  {
   "cell_type": "code",
   "execution_count": 59,
   "metadata": {},
   "outputs": [
    {
     "name": "stdout",
     "output_type": "stream",
     "text": [
      "root\n",
      " |-- user_id: integer (nullable = true)\n",
      " |-- firstname: string (nullable = true)\n",
      " |-- lastname: string (nullable = true)\n",
      " |-- dob: string (nullable = true)\n",
      " |-- address: string (nullable = true)\n",
      " |-- postcode: integer (nullable = true)\n",
      " |-- state: string (nullable = true)\n",
      " |-- sex: string (nullable = true)\n",
      " |-- suburb: string (nullable = true)\n",
      "\n"
     ]
    }
   ],
   "source": [
    "df_user.printSchema()"
   ]
  },
  {
   "cell_type": "code",
   "execution_count": 60,
   "metadata": {},
   "outputs": [
    {
     "name": "stdout",
     "output_type": "stream",
     "text": [
      "root\n",
      " |-- product_id: integer (nullable = true)\n",
      " |-- category_id: long (nullable = true)\n",
      " |-- brand: string (nullable = true)\n",
      " |-- avg_cost: double (nullable = true)\n",
      "\n"
     ]
    }
   ],
   "source": [
    "df_prod.printSchema()"
   ]
  },
  {
   "cell_type": "code",
   "execution_count": 72,
   "metadata": {},
   "outputs": [
    {
     "name": "stdout",
     "output_type": "stream",
     "text": [
      "root\n",
      " |-- id: string (nullable = true)\n",
      " |-- sales_timestamp: string (nullable = true)\n",
      " |-- product_id: integer (nullable = true)\n",
      " |-- price: double (nullable = true)\n",
      " |-- user_id: integer (nullable = true)\n",
      " |-- user_session: string (nullable = true)\n",
      "\n"
     ]
    }
   ],
   "source": [
    "df_sale.printSchema()"
   ]
  },
  {
   "cell_type": "markdown",
   "metadata": {},
   "source": [
    "### 2.2 QueryAnalysis  <a class=\"anchor\" name=\"2.2\"></a>\n",
    "Implement the following queries using dataframes. You need to be able to perform operations like filtering, sorting, joining and group by using the functions provided by the DataFrame API.   \n",
    "\n",
    "**2.2.1. Transform the 'sales_time' column in the sales dataframe to the date type; extract the hour in sales_date and create a new column “sales_hour”; after that, show the schema.**"
   ]
  },
  {
   "cell_type": "code",
   "execution_count": 73,
   "metadata": {},
   "outputs": [],
   "source": [
    "import pyspark.sql.functions as F"
   ]
  },
  {
   "cell_type": "code",
   "execution_count": 74,
   "metadata": {},
   "outputs": [],
   "source": [
    "# transform sales_timestamp from str to timestamp\n",
    "df_sale = df_sale.withColumn(\"sales_timestamp\", F.to_timestamp(df_sale.sales_timestamp))\n",
    "\n",
    "# create sales_date column\n",
    "df_sale = df_sale.withColumn(\"sales_date\", F.to_date(df_sale.sales_timestamp, \"yyyy-MM-dd\"))\n",
    "\n",
    "# create sales_hour column\n",
    "df_sale = df_sale.withColumn(\"sales_hour\", F.hour(df_sale.sales_timestamp))"
   ]
  },
  {
   "cell_type": "code",
   "execution_count": 75,
   "metadata": {},
   "outputs": [
    {
     "name": "stdout",
     "output_type": "stream",
     "text": [
      "root\n",
      " |-- id: string (nullable = true)\n",
      " |-- sales_timestamp: timestamp (nullable = true)\n",
      " |-- product_id: integer (nullable = true)\n",
      " |-- price: double (nullable = true)\n",
      " |-- user_id: integer (nullable = true)\n",
      " |-- user_session: string (nullable = true)\n",
      " |-- sales_date: date (nullable = true)\n",
      " |-- sales_hour: integer (nullable = true)\n",
      "\n"
     ]
    }
   ],
   "source": [
    "# show the schema\n",
    "df_sale.printSchema()"
   ]
  },
  {
   "cell_type": "markdown",
   "metadata": {},
   "source": [
    "**2.2.2. Calculate total sales for each hour, sort your result based on each hour’s sales in a descending order. Print out the sales_hour and total_sales columns.**"
   ]
  },
  {
   "cell_type": "code",
   "execution_count": 81,
   "metadata": {},
   "outputs": [],
   "source": [
    "# use group by to group by sales_hours and sum all price as total_sales\n",
    "df_hour_sales = df_sale.groupby('sales_hour')\\\n",
    "                .agg(F.sum('price')\\\n",
    "                .alias('total_sales'))\\\n",
    "                .orderBy(F.col('total_sales').desc())"
   ]
  },
  {
   "cell_type": "code",
   "execution_count": 82,
   "metadata": {},
   "outputs": [
    {
     "name": "stdout",
     "output_type": "stream",
     "text": [
      "+----------+--------------------+\n",
      "|sales_hour|         total_sales|\n",
      "+----------+--------------------+\n",
      "|        20|1.5351197236000213E8|\n",
      "|        19| 1.521627993100025E8|\n",
      "|        21|1.4724680875000224E8|\n",
      "|        18| 1.441795846300025E8|\n",
      "|        22|1.3618101099000084E8|\n",
      "|        17|1.3607539438000154E8|\n",
      "|        23|1.2559894061000021E8|\n",
      "|        16|1.2284067474000046E8|\n",
      "|         0| 1.169956001100005E8|\n",
      "|         1|1.1080353314999993E8|\n",
      "|         2|1.0287751746999983E8|\n",
      "|        15|1.0100994596999954E8|\n",
      "|         3| 9.441016929000013E7|\n",
      "|         4| 8.541564229000033E7|\n",
      "|         5| 7.093822263000044E7|\n",
      "|        14| 6.736174058999965E7|\n",
      "|         6| 5.266716998999994E7|\n",
      "|         7| 3.429415210999993E7|\n",
      "|        13|3.1814464309999984E7|\n",
      "|         8|2.2258807820000015E7|\n",
      "|         9|1.4789580690000007E7|\n",
      "|        12|1.4245705460000014E7|\n",
      "|        10|1.0073946459999997E7|\n",
      "|        11|    9693843.75000001|\n",
      "+----------+--------------------+\n",
      "\n"
     ]
    }
   ],
   "source": [
    "df_hour_sales.show(24)"
   ]
  },
  {
   "cell_type": "markdown",
   "metadata": {},
   "source": [
    "**2.2.3.Find 10 most profitable categories (profit can be simply defined as price - avg_cost). Print out the category name and total profit. Please print the category name in capitalized word format(hint: you can reuse the UDF defined in part 1.)**"
   ]
  },
  {
   "cell_type": "code",
   "execution_count": 83,
   "metadata": {},
   "outputs": [],
   "source": [
    "# find product id with max category_id\n",
    "df_prod_id = df_prod.groupby('product_id')\\\n",
    "            .agg(F.max('category_id')\\\n",
    "                .alias('category_id'))"
   ]
  },
  {
   "cell_type": "code",
   "execution_count": 84,
   "metadata": {},
   "outputs": [],
   "source": [
    "# join df_prod_id with df_prod\n",
    "df_prod_filtered = df_prod_id\\\n",
    "        .join(df_prod.drop('brand'), on = ['product_id', 'category_id'] , how='left')"
   ]
  },
  {
   "cell_type": "code",
   "execution_count": 85,
   "metadata": {},
   "outputs": [
    {
     "name": "stdout",
     "output_type": "stream",
     "text": [
      "+----------+-------------------+-----+\n",
      "|product_id|        category_id|count|\n",
      "+----------+-------------------+-----+\n",
      "|  28102217|2053013564918072245|    2|\n",
      "| 100188730|2232732135213498718|    2|\n",
      "|  15200176|2053013557192163841|    2|\n",
      "|  26205147|2232732081585127530|    2|\n",
      "| 100041440|2232732113948377930|    2|\n",
      "+----------+-------------------+-----+\n",
      "only showing top 5 rows\n",
      "\n"
     ]
    }
   ],
   "source": [
    "# we can see that one product_id and category_id belongs to multiple avg_price\n",
    "df_prod_filtered.groupBy('product_id', 'category_id')\\\n",
    ".count().filter(F.col('count')>1).show(5)"
   ]
  },
  {
   "cell_type": "code",
   "execution_count": 86,
   "metadata": {},
   "outputs": [],
   "source": [
    "# choose the maximum avg price\n",
    "df_prod_filtered = df_prod_filtered.groupBy('product_id', 'category_id')\\\n",
    "                 .agg(F.max('avg_cost')\\\n",
    "                      .alias('avg_cost'))"
   ]
  },
  {
   "cell_type": "code",
   "execution_count": 87,
   "metadata": {},
   "outputs": [],
   "source": [
    "# join between sales and product\n",
    "df_sales_product = df_sale.join(df_prod_filtered, on=['product_id'], how= 'left')"
   ]
  },
  {
   "cell_type": "code",
   "execution_count": 88,
   "metadata": {},
   "outputs": [],
   "source": [
    "# calculate profit price - avg\n",
    "df_sales_product = df_sales_product\\\n",
    "                .withColumn('profit', df_sales_product.price - df_sales_product.avg_cost)\n",
    "\n",
    "# select only needed\n",
    "df_sales_product = df_sales_product.select('category_id', 'profit')\n",
    "\n",
    "# aggragte based on category_id\n",
    "df_sales_product = df_sales_product.groupby('category_id')\\\n",
    "                .agg(F.sum('profit').alias('total_profit'))"
   ]
  },
  {
   "cell_type": "code",
   "execution_count": 89,
   "metadata": {},
   "outputs": [],
   "source": [
    "# define udf\n",
    "def capitalize(data):\n",
    "    cat_code = data.split('.')\n",
    "    full_word = ''\n",
    "    for word in cat_code:\n",
    "        word = word.capitalize()\n",
    "        full_word += word + ' '\n",
    "        \n",
    "    full_word = full_word[:-1]\n",
    "    return full_word\n",
    "\n",
    "# register udf\n",
    "capitalize_udf = F.udf(capitalize, F.StringType())"
   ]
  },
  {
   "cell_type": "code",
   "execution_count": 90,
   "metadata": {},
   "outputs": [],
   "source": [
    "# apply capitalize_udf to df_cat\n",
    "df_cat = df_cat.select('category_id', 'category_code', capitalize_udf('category_code')\\\n",
    "                       .alias('category_code_cap')).drop('category_code')\n",
    "\n",
    "# rename to the correct name \n",
    "df_cat = df_cat.withColumnRenamed('category_code_cap', 'category_code')"
   ]
  },
  {
   "cell_type": "code",
   "execution_count": 91,
   "metadata": {},
   "outputs": [],
   "source": [
    "# join all datasets\n",
    "df_joined = df_sales_product.join(df_cat, on= ['category_id'], how= 'left')\n",
    "\n",
    "# calculate total_profit of each category_code\n",
    "df_joined = df_joined.groupBy('category_code')\\\n",
    "          .agg(F.sum('total_profit').alias('total_profit'))\\\n",
    "          .orderBy(F.col('total_profit').desc())"
   ]
  },
  {
   "cell_type": "code",
   "execution_count": 92,
   "metadata": {},
   "outputs": [],
   "source": [
    "# round the total_profit\n",
    "df_joined = df_joined.withColumn('total_profit', F.round(df_joined.total_profit))"
   ]
  },
  {
   "cell_type": "code",
   "execution_count": 93,
   "metadata": {},
   "outputs": [
    {
     "name": "stdout",
     "output_type": "stream",
     "text": [
      "+--------------------+------------+\n",
      "|       category_code|total_profit|\n",
      "+--------------------+------------+\n",
      "|Construction Tool...| 5.5594871E7|\n",
      "|              Others|   5920057.0|\n",
      "|Appliances Person...|   5168128.0|\n",
      "|Appliances Kitche...|   4157170.0|\n",
      "|  Computers Notebook|   2465817.0|\n",
      "|  Electronics Clocks|   2013943.0|\n",
      "|Appliances Kitche...|   1427200.0|\n",
      "|           Sport Ski|   1277497.0|\n",
      "|Appliances Enviro...|   1160617.0|\n",
      "|Electronics Smart...|    956346.0|\n",
      "+--------------------+------------+\n",
      "only showing top 10 rows\n",
      "\n"
     ]
    }
   ],
   "source": [
    "df_joined.show(10)"
   ]
  },
  {
   "cell_type": "markdown",
   "metadata": {},
   "source": [
    "**2.2.4. Use DataFrame filters to find all transactions sold at loss (defined as price < avg_cost), calculate 10 worst loss margin in percentage. (margin is defined as (price - avg_cost)/avg_cost; if price - avg_cost > 0, it’s call a profit margin; otherwise a loss margin)**"
   ]
  },
  {
   "cell_type": "code",
   "execution_count": 94,
   "metadata": {},
   "outputs": [],
   "source": [
    "# join sales product\n",
    "df_sales_product1 = df_sale\\\n",
    "                .join(df_prod_filtered, on= ['product_id'], how= 'left')\n",
    "\n",
    "# create sold_at_loss column\n",
    "df_sales_product1 = df_sales_product1\\\n",
    "                .withColumn('sold_at_loss', df_sales_product1.price - df_sales_product1.avg_cost)\n",
    "\n",
    "# create margin column\n",
    "df_sales_product1 = df_sales_product1\\\n",
    "                .withColumn('margin', (df_sales_product1.sold_at_loss / df_sales_product1.avg_cost) * 100)\n",
    "\n",
    "# sort by margin\n",
    "df_sales_product1 = df_sales_product1.sort('margin')\n"
   ]
  },
  {
   "cell_type": "code",
   "execution_count": 95,
   "metadata": {},
   "outputs": [
    {
     "name": "stdout",
     "output_type": "stream",
     "text": [
      "+---------+------------------+\n",
      "|       id|            margin|\n",
      "+---------+------------------+\n",
      "|204037762|-99.23549548710929|\n",
      "|204017856|-99.23549548710929|\n",
      "|396531551|-99.17671185020558|\n",
      "|394075934|-99.17671185020558|\n",
      "|394083902|-99.17671185020558|\n",
      "|394106370|-99.17671185020558|\n",
      "|394112198|-99.17671185020558|\n",
      "|394129754|-99.17671185020558|\n",
      "|396544717|-99.17671185020558|\n",
      "|396598353|-99.17671185020558|\n",
      "+---------+------------------+\n",
      "only showing top 10 rows\n",
      "\n"
     ]
    }
   ],
   "source": [
    "df_sales_product1.select('id', 'margin').show(10)"
   ]
  },
  {
   "cell_type": "markdown",
   "metadata": {},
   "source": [
    "**2.2.5. Draw a barchart to show total sales from different states in each year.**"
   ]
  },
  {
   "cell_type": "code",
   "execution_count": 96,
   "metadata": {},
   "outputs": [],
   "source": [
    "# import libraries\n",
    "import matplotlib.pyplot as plt\n",
    "import pandas as pd\n",
    "import numpy as np"
   ]
  },
  {
   "cell_type": "code",
   "execution_count": 97,
   "metadata": {},
   "outputs": [],
   "source": [
    "# create new column 'year'\n",
    "df_sale1 = df_sale.withColumn('year', F.year(df_sale.sales_timestamp))\n",
    "\n",
    "# select needed cols \n",
    "df_sale1 = df_sale1.select('user_id', 'year', 'price')\n",
    "\n",
    "# select only needed cols from user\n",
    "df_user1 = df_user.select('user_id', 'state')\n",
    "\n",
    "# join salses and users datasets\n",
    "df_sale_user = df_sale1.join(df_user1, on= ['user_id'], how= 'left')"
   ]
  },
  {
   "cell_type": "code",
   "execution_count": 98,
   "metadata": {},
   "outputs": [],
   "source": [
    "# calculate total_sales for each year for each state\n",
    "df_sale_user = df_sale_user.groupBy('year', 'state')\\\n",
    "            .agg(F.sum('price').alias('total_sales'))"
   ]
  },
  {
   "cell_type": "code",
   "execution_count": 99,
   "metadata": {},
   "outputs": [
    {
     "data": {
      "image/png": "[encoded data removed]",
      "text/plain": [
       "<Figure size 1000x600 with 1 Axes>"
      ]
     },
     "metadata": {},
     "output_type": "display_data"
    }
   ],
   "source": [
    "# convert pyspark df to pandas df\n",
    "df_sale_user = df_sale_user.toPandas()\n",
    "\n",
    "# pivot the data to have states as columns\n",
    "pivot_table = df_sale_user.pivot(index=\"state\", columns=\"year\", values=\"total_sales\")\n",
    "\n",
    "# ploting\n",
    "ax = pivot_table.plot(kind=\"bar\", figsize=(10, 6))\n",
    "plt.title('Total Sales in each state by year')\n",
    "plt.xlabel('State')\n",
    "plt.ylabel('Total Sales')\n",
    "plt.xticks(rotation=0)\n",
    "plt.legend(title=\"Year\")\n",
    "\n",
    "# show the bar chart\n",
    "plt.tight_layout()\n",
    "plt.show()"
   ]
  },
  {
   "cell_type": "markdown",
   "metadata": {},
   "source": [
    "**2.2.6. Draw a scatter plot of customer age and their total spending with MOTH. To limit the number of datapoints, you may show the top 1000 “most valuable” customers only. You may also use log scale for the XY axis.**"
   ]
  },
  {
   "cell_type": "code",
   "execution_count": 100,
   "metadata": {},
   "outputs": [],
   "source": [
    "# select needed cols from sales\n",
    "df_sale2 = df_sale.select('user_id','sales_date', 'price')\n",
    "\n",
    "# select needed cols from users\n",
    "df_user2 = df_user.select('user_id', 'dob')\n",
    "\n",
    "# change date from str to datetype\n",
    "df_user2 = df_user2.withColumn('dob', F.to_date(df_user2.dob, 'd-M-yyyy'))\n",
    "\n",
    "# join sales and users\n",
    "df_sales_users = df_sale2.join(df_user2, on=['user_id'], how= 'left')\n"
   ]
  },
  {
   "cell_type": "code",
   "execution_count": 101,
   "metadata": {},
   "outputs": [],
   "source": [
    "# calculate users age by sales_timestamp - dob / 365.25\n",
    "df_sales_users = df_sales_users\\\n",
    "            .withColumn('user_age', (F.datediff(df_sales_users.sales_date, df_sales_users.dob)/365.25).cast('int'))"
   ]
  },
  {
   "cell_type": "code",
   "execution_count": 102,
   "metadata": {},
   "outputs": [],
   "source": [
    "# caculate total_spending and sort by desc\n",
    "df_sales_users = df_sales_users.groupby('user_id', 'user_age')\\\n",
    "            .agg(F.sum('price').alias('total_spending'))\\\n",
    "            .sort('total_spending', ascending=False)"
   ]
  },
  {
   "cell_type": "code",
   "execution_count": 103,
   "metadata": {},
   "outputs": [],
   "source": [
    "# convert pysaprk df to pandas df\n",
    "df_sales_users = df_sales_users.toPandas()\n",
    "\n",
    "# select only first 1000 records\n",
    "df_sales_users = df_sales_users.iloc[0:1000]"
   ]
  },
  {
   "cell_type": "code",
   "execution_count": 104,
   "metadata": {},
   "outputs": [
    {
     "data": {
      "image/png": "[encoded data removed]",
      "text/plain": [
       "<Figure size 1000x600 with 1 Axes>"
      ]
     },
     "metadata": {},
     "output_type": "display_data"
    }
   ],
   "source": [
    "# ploting\n",
    "plt.figure(figsize=(10, 6))\n",
    "plt.scatter(df_sales_users['user_age'], df_sales_users['total_spending'])\n",
    "plt.xlabel('user_age')\n",
    "plt.ylabel('total_spending_log')\n",
    "plt.yscale('log')\n",
    "plt.title('Top 1000 spenders by age')\n",
    "\n",
    "# Show the bar chart\n",
    "plt.tight_layout()\n",
    "plt.show()"
   ]
  },
  {
   "cell_type": "markdown",
   "metadata": {},
   "source": [
    "### Part 3 RDDs vs DataFrame vs Spark SQL (15%) <a class=\"anchor\" name=\"part-3\"></a>\n",
    "Implement the following queries using RDDs, DataFrames in SparkSQL separately. Log the  time taken for each query in each approach using the “%%time” built-in magic command in Jupyter Notebook and discuss the performance difference between these 3 approaches. \n"
   ]
  },
  {
   "cell_type": "markdown",
   "metadata": {},
   "source": [
    "\n"
   ]
  },
  {
   "cell_type": "markdown",
   "metadata": {},
   "source": [
    "#### Query: Find top 100 most popular products (by total sales) among user age group 20-40, group by brand, and show total sales revenue of each brand."
   ]
  },
  {
   "cell_type": "markdown",
   "metadata": {},
   "source": [
    "#### 3.1. RDD Implementation"
   ]
  },
  {
   "cell_type": "code",
   "execution_count": 105,
   "metadata": {},
   "outputs": [],
   "source": [
    "# import libaries\n",
    "from datetime import datetime\n",
    "from pyspark.sql.types import DateType"
   ]
  },
  {
   "cell_type": "code",
   "execution_count": 106,
   "metadata": {},
   "outputs": [],
   "source": [
    "# load datasets\n",
    "sales_rdd = sc.textFile('sales.csv')\n",
    "users_rdd = sc.textFile('users.csv')\n",
    "products_rdd = sc.textFile('product.csv')"
   ]
  },
  {
   "cell_type": "code",
   "execution_count": 107,
   "metadata": {},
   "outputs": [],
   "source": [
    "# preprcess sales\n",
    "sales_rdd1 = sales_rdd.map(lambda x: x.split(','))\n",
    "sales_headers = sales_rdd1.first()\n",
    "sales_rdd1 = sales_rdd1.filter(lambda x: x!= sales_headers)"
   ]
  },
  {
   "cell_type": "code",
   "execution_count": 108,
   "metadata": {},
   "outputs": [],
   "source": [
    "# preprocess users\n",
    "users_rdd1 = users_rdd.map(lambda x: x.split(','))\n",
    "users_headers = users_rdd1.first()\n",
    "users_rdd1 = users_rdd1.filter(lambda x: x!= users_headers)"
   ]
  },
  {
   "cell_type": "code",
   "execution_count": 109,
   "metadata": {},
   "outputs": [],
   "source": [
    "# preprocess products\n",
    "products_rdd1 = products_rdd.map(lambda x: x.split(','))\n",
    "products_headers = products_rdd1.first()\n",
    "products_rdd1 = products_rdd1.filter(lambda x: x!= products_headers)"
   ]
  },
  {
   "cell_type": "code",
   "execution_count": 110,
   "metadata": {
    "scrolled": false
   },
   "outputs": [
    {
     "name": "stdout",
     "output_type": "stream",
     "text": [
      "CPU times: user 153 ms, sys: 71.7 ms, total: 225 ms\n",
      "Wall time: 2min 15s\n"
     ]
    },
    {
     "data": {
      "text/plain": [
       "[('apple', 247499120.88),\n",
       " ('samsung', 84397361.38999996),\n",
       " ('xiaomi', 8074406.689999999),\n",
       " ('huawei', 4995218.6),\n",
       " ('oppo', 3971586.469999999),\n",
       " ('thermomix', 1673596.5000000005),\n",
       " ('sony', 1628665.1299999985),\n",
       " ('acer', 1050838.0299999998)]"
      ]
     },
     "execution_count": 110,
     "metadata": {},
     "output_type": "execute_result"
    }
   ],
   "source": [
    "%%time\n",
    "# define function to convernt data and timestamp\n",
    "def convert_timestamp(timestamp):\n",
    "    time = datetime.strptime(timestamp, '%Y-%m-%d %H:%M:%S.%f %z')\n",
    "    return time.date()\n",
    "\n",
    "def convert_date(str_date):\n",
    "    date = datetime.strptime(str_date, '%d-%m-%Y').date()\n",
    "    return date\n",
    "\n",
    "# transform to be key value pairs\n",
    "# user_id, sales_timestamp, price, product_id\n",
    "sales_rdd1 = sales_rdd1.map(lambda x: (x[4], [x[1], float(x[3]), x[2]]))\n",
    "\n",
    "# user_id, dob\n",
    "users_rdd1 = users_rdd1.map(lambda x: (x[0], [x[3]]))\n",
    "\n",
    "# join sales and users\n",
    "sales_users_rdd = users_rdd1.rightOuterJoin(sales_rdd1)\n",
    "\n",
    "# transform sales users to key value pairs\n",
    "sales_users_rdd = sales_users_rdd.map(lambda x:(x[0], x[1][0][0], x[1][1][0], x[1][1][1], x[1][1][2]))\n",
    "sales_users_rdd = sales_users_rdd.map(lambda x: (x[4], list(x[:4])))\n",
    "\n",
    "# preprocess product_rddabs1\n",
    "# find the latest version of brand based on category id\n",
    "products_rdd1 = products_rdd1.map(lambda x: (x[0], int(x[1]), x[2]))\n",
    "\n",
    "# create key value pairs\n",
    "products_rdd2 = products_rdd1.map(lambda x: (x[0], x[1]))\n",
    "\n",
    "# define function for aggregate by key\n",
    "init = []\n",
    "\n",
    "def seq_func(initial,data):\n",
    "    initial.append(data)\n",
    "    return initial\n",
    "\n",
    "def com_func(acc1, acc2):\n",
    "    all_cat_id = acc1 + acc2\n",
    "    return all_cat_id\n",
    "\n",
    "# apply aggreateByKey\n",
    "products_rdd2 = products_rdd2.aggregateByKey(init, seq_func, com_func)\n",
    "\n",
    "# find max\n",
    "products_rdd2 = products_rdd2.map(lambda x: (x[0], max(x[1])))\n",
    "\n",
    "# create key_value pair of product_rdd2\n",
    "products_rdd2 = products_rdd2.map(lambda x: (x, 1))\n",
    "\n",
    "# transform original product_rdd1 to key value pairs\n",
    "products_rdd1 = products_rdd1.map(lambda x: ((x[0], x[1]), x[2]))\n",
    "\n",
    "# join by orginal product data and aggreate all value\n",
    "products_rdd2 = products_rdd2.leftOuterJoin(products_rdd1).reduceByKey(lambda x, y:x)\n",
    "\n",
    "# keep only product_id and brand and filter out '' from brands\n",
    "products_rdd2 = products_rdd2.map(lambda x: (x[0][0], x[1][1])).filter(lambda x: x[1] != '')\n",
    "\n",
    "# filter Unknown \n",
    "sales_users_rdd1 = sales_users_rdd.filter(lambda x: x[1][1] != 'Unknown')\n",
    "\n",
    "\n",
    "# convert str to date\n",
    "sales_users_rdd1 = sales_users_rdd1.map(lambda x: (x[0], convert_date(x[1][1]), convert_timestamp(x[1][2]), x[1][3]))\n",
    "\n",
    "# find the age of users\n",
    "sales_users_rdd1 = sales_users_rdd1.map(lambda x: ((x[0], (int((x[2]-x[1]).days/365.25), x[3]))))\n",
    "\n",
    "# filter 20 <=  age <=40\n",
    "sales_users_rdd1 = sales_users_rdd1.filter(lambda x: 20<=x[1][0]<=40)\n",
    "\n",
    "# transform sales users and find total revenu of product\n",
    "sales_users_rdd1 = sales_users_rdd1.map(lambda x: (x[0], x[1][1])).reduceByKey(lambda x, y: x+y)\n",
    "\n",
    "# sort and take top 100\n",
    "sales_users_rdd1 = sales_users_rdd1.sortBy(lambda x: x[1], ascending=False).take(100)\n",
    "\n",
    "# transform list to rdd\n",
    "sales_users_rdd1 = sc.parallelize(sales_users_rdd1)\n",
    "\n",
    "# joining all datasets\n",
    "joined_rdd = sales_users_rdd1.leftOuterJoin(products_rdd2)\\\n",
    "            .map(lambda x: (x[1][1], x[1][0])).reduceByKey(lambda x,y : x+y)\\\n",
    "            .sortBy(lambda x: x[1], ascending= False)\n",
    "\n",
    "joined_rdd.take(100)"
   ]
  },
  {
   "cell_type": "markdown",
   "metadata": {},
   "source": [
    "#### 3.2. DataFrame Implementation"
   ]
  },
  {
   "cell_type": "code",
   "execution_count": 117,
   "metadata": {},
   "outputs": [],
   "source": [
    "# load datasets\n",
    "df_user = spark.read.csv(\"users.csv\", header=True, inferSchema=True)\n",
    "df_prod = spark.read.csv(\"product.csv\", header=True, inferSchema=True)"
   ]
  },
  {
   "cell_type": "code",
   "execution_count": 118,
   "metadata": {},
   "outputs": [],
   "source": [
    "df_sale = spark.read.csv(\"sales.csv\", header=True, schema=sale_data_type)\n",
    "# transform sales_timestamp from str to timestamp\n",
    "df_sale = df_sale.withColumn(\"sales_timestamp\", F.to_timestamp(df_sale.sales_timestamp))"
   ]
  },
  {
   "cell_type": "code",
   "execution_count": 122,
   "metadata": {},
   "outputs": [
    {
     "name": "stdout",
     "output_type": "stream",
     "text": [
      "+----------+-------------------+------+\n",
      "|product_id|        category_id| brand|\n",
      "+----------+-------------------+------+\n",
      "|  12709917|2053013553199186187|sailun|\n",
      "| 100172878|2053013552167387343|rooman|\n",
      "| 100086368|2053013554658804075|lenovo|\n",
      "|  11500291|2053013554625249641|   jbl|\n",
      "|   1004739|2232732093077520756|xiaomi|\n",
      "+----------+-------------------+------+\n",
      "only showing top 5 rows\n",
      "\n"
     ]
    }
   ],
   "source": [
    "df_prod1.show(5)"
   ]
  },
  {
   "cell_type": "code",
   "execution_count": 134,
   "metadata": {},
   "outputs": [
    {
     "name": "stdout",
     "output_type": "stream",
     "text": [
      "+---------+--------------------+\n",
      "|    brand|        total_revenu|\n",
      "+---------+--------------------+\n",
      "|    apple|2.4751507813999936E8|\n",
      "|  samsung| 8.439816068999745E7|\n",
      "|   xiaomi|    8074585.56000013|\n",
      "|   huawei|   4995679.360000054|\n",
      "|     oppo|  3971794.8299998804|\n",
      "|thermomix|  1673596.5000000128|\n",
      "|     sony|  1628665.1300000374|\n",
      "|   lenovo|  1050838.0300000026|\n",
      "+---------+--------------------+\n",
      "\n",
      "CPU times: user 16.5 ms, sys: 28.9 ms, total: 45.4 ms\n",
      "Wall time: 31.8 s\n"
     ]
    }
   ],
   "source": [
    "%%time\n",
    "# find max category of each product_id\n",
    "df_prod_id = df_prod.groupBy('product_id').agg(F.max('category_id').alias('category_id'))\n",
    "\n",
    "# join data product data set \n",
    "df_prod1 = df_prod_id.join(df_prod.select('product_id', 'category_id', 'brand'), on= ['product_id', 'category_id'], how= 'left')\\\n",
    "          .dropna('any').dropDuplicates(['product_id'])\n",
    "\n",
    "# select needed cols\n",
    "df_user1 = df_user.select('user_id', 'dob')\n",
    "\n",
    "# join sales and users\n",
    "df_sale_user = df_sale.join(df_user1, on= ['user_id'], how= 'left')\n",
    "\n",
    "# register udf\n",
    "convert_date_udf = F.udf(convert_date, DateType())\n",
    "convert_timestamp_udf = F.udf(convert_timestamp, DateType())\n",
    "\n",
    "# join all data set\n",
    "joined_df = df_sale_user.join(df_prod1, on= ['product_id'], how='left')\n",
    "\n",
    "# transform dob to datetype\n",
    "joined_df = joined_df.withColumn('dob', convert_date_udf(joined_df.dob))\n",
    "\n",
    "# find age of customer\n",
    "joined_df = joined_df.withColumn('age', (F.datediff(joined_df.sales_timestamp, joined_df.dob)/365.25).cast('int'))\n",
    "\n",
    "# filter between 20 and 40\n",
    "joined_df = joined_df.filter((F.col('age') <= 40) & (F.col('age')>=20))\n",
    "\n",
    "# find total_revenu of product and brand\n",
    "joined_df = joined_df.groupBy(['product_id', 'brand']).agg(F.sum('price').alias('total_sales'))\\\n",
    "            .sort('total_sales', ascending=False).limit(100)\n",
    "\n",
    "# find total revenu of brands\n",
    "joined_df.groupBy(['brand']).agg(F.sum('total_sales').alias('total_revenu')).show(20)"
   ]
  },
  {
   "cell_type": "markdown",
   "metadata": {},
   "source": [
    "#### 3.3. Spark SQL Implementation"
   ]
  },
  {
   "cell_type": "code",
   "execution_count": 115,
   "metadata": {},
   "outputs": [],
   "source": [
    "df_user.createOrReplaceTempView('sql_users')\n",
    "df_prod.createOrReplaceTempView('sql_products')\n",
    "df_sale.createOrReplaceTempView('sql_sales')"
   ]
  },
  {
   "cell_type": "code",
   "execution_count": 116,
   "metadata": {},
   "outputs": [
    {
     "name": "stdout",
     "output_type": "stream",
     "text": [
      "+---------+-------------------+\n",
      "|    brand|      total_revenue|\n",
      "+---------+-------------------+\n",
      "|    apple|2.475025097700001E8|\n",
      "|  samsung| 8.43979657800001E7|\n",
      "|   xiaomi|  8074585.560000003|\n",
      "|   huawei|          4995218.6|\n",
      "|     oppo|  3971586.469999999|\n",
      "|thermomix| 1673596.5000000005|\n",
      "|     sony| 1628665.1299999962|\n",
      "|     acer| 1050838.0299999996|\n",
      "+---------+-------------------+\n",
      "\n",
      "CPU times: user 17.4 ms, sys: 15.6 ms, total: 33 ms\n",
      "Wall time: 46.9 s\n"
     ]
    }
   ],
   "source": [
    "%%time\n",
    "\n",
    "def convert_timestamp(timestamp):\n",
    "    return timestamp.date()\n",
    "\n",
    "def convert_date(str_date):\n",
    "    date = datetime.strptime(str_date, '%d-%m-%Y').date()\n",
    "    return date\n",
    "\n",
    "spark.udf.register('convert_date', convert_date, DateType())\n",
    "spark.udf.register('convert_timestamp', convert_timestamp, DateType())\n",
    "\n",
    "# get distinct product_id with max cat_id and its brands\n",
    "result_sql = spark.sql('''\n",
    "SELECT DISTINCT product_id, FIRST(brand) as brand\n",
    "FROM (\n",
    "    SELECT p1.product_id, p2.brand, max(p1.category_id) as category_id\n",
    "    FROM sql_products p1\n",
    "    LEFT JOIN (\n",
    "        SELECT product_id, category_id, brand\n",
    "        FROM sql_products\n",
    "            ) p2\n",
    "    ON p1.category_id = p2.category_id AND p1.product_id = p2.product_id\n",
    "    GROUP BY p1.product_id, p2.brand\n",
    ")\n",
    "WHERE brand IS NOT NULL\n",
    "GROUP BY product_id;\n",
    "''')\n",
    "\n",
    "# convert time and find age, filter age then calculate total_revenue\n",
    "result_sql2 = spark.sql('''\n",
    "SELECT product_id, sum(price) as total_revenue\n",
    "FROM (\n",
    "    SELECT  s.product_id, INT(DATEDIFF(convert_timestamp(s.sales_timestamp), convert_date(u.dob))/365.25) as age , s.price\n",
    "    FROM sql_sales s\n",
    "    LEFT JOIN sql_users u\n",
    "    ON s.user_id = u.user_id)\n",
    "WHERE age >= 20 AND age <= 40\n",
    "GROUP BY product_id\n",
    "ORDER BY total_revenue desc\n",
    "LIMIT 100;\n",
    "''')\n",
    "\n",
    "# create new tempview\n",
    "result_sql.createOrReplaceTempView('sql_product_brand')\n",
    "result_sql2.createOrReplaceTempView('sql_sales_users')\n",
    "\n",
    "# integrate result 1 and 2, then find total_revenue of each brand\n",
    "result_sql3 = spark.sql('''\n",
    "SELECT p.brand, sum(total_revenue) as total_revenue\n",
    "FROM sql_sales_users s\n",
    "LEFT JOIN sql_product_brand p\n",
    "ON s.product_id = p.product_id\n",
    "GROUP BY p.brand\n",
    "ORDER BY total_revenue DESC\n",
    "limit 100;\n",
    "''')\n",
    "\n",
    "result_sql3.show(100)"
   ]
  },
  {
   "cell_type": "markdown",
   "metadata": {},
   "source": [
    "### 3.4 Observe the query execution time among RDD, DataFrame, SparkSQL, which is the fastest and why? (Maximum 500 words.)"
   ]
  },
  {
   "cell_type": "markdown",
   "metadata": {},
   "source": [
    "In this part we performed data query using 2 different data abstractions, namely \n",
    "1. RDD \n",
    "2. Dataframe\n",
    "Both of them are provided in Apache Spark and can be acess by different APIs. \n",
    "\n",
    "As we see from the coding above Dataframe provides more readable code in comparison to RDD. More importantly, the runtime of Dataframe(sql is under dataframe) is running much faster than RDD, because Dataframe has introduce **Catalyst Optimizer** which helps to genertate most optimized physical and logical query plan. Another thing that only exists in dataframe is **Tungsten component** which helps in term of memory efficiency. Whereas RDD does not provide these tools, the performance is depending soley on users optimization. \n",
    "\n",
    "In summary, Dataframe(include sql query) is much faster than RDD because of having better optimization when quering.\n"
   ]
  },
  {
   "cell_type": "markdown",
   "metadata": {},
   "source": [
    "### Some ideas on the comparison\n",
    "\n",
    "Armbrust, M., Huai, Y., Liang, C., Xin, R., & Zaharia, M. (2015). Deep Dive into Spark SQL’s Catalyst Optimizer. Retrieved September 30, 2017, from https://databricks.com/blog/2015/04/13/deep-dive-into-spark-sqls-catalyst-optimizer.html\n",
    "\n",
    "Damji, J. (2016). A Tale of Three Apache Spark APIs: RDDs, DataFrames, and Datasets. Retrieved September 28, 2017, from https://databricks.com/blog/2016/07/14/a-tale-of-three-apache-spark-apis-rdds-dataframes-and-datasets.html\n",
    "\n",
    "Data Flair (2017a). Apache Spark RDD vs DataFrame vs DataSet. Retrieved September 28, 2017, from http://data-flair.training/blogs/apache-spark-rdd-vs-dataframe-vs-dataset\n",
    "\n",
    "Prakash, C. (2016). Apache Spark: RDD vs Dataframe vs Dataset. Retrieved September 28, 2017, from http://why-not-learn-something.blogspot.com.au/2016/07/apache-spark-rdd-vs-dataframe-vs-dataset.html\n",
    "\n",
    "Xin, R., & Rosen, J. (2015). Project Tungsten: Bringing Apache Spark Closer to Bare Metal. Retrieved September 30, 2017, from https://databricks.com/blog/2015/04/28/project-tungsten-bringing-spark-closer-to-bare-metal.html"
   ]
  }
 ],
 "metadata": {
  "kernelspec": {
   "display_name": "Python 3 (ipykernel)",
   "language": "python",
   "name": "python3"
  },
  "language_info": {
   "codemirror_mode": {
    "name": "ipython",
    "version": 3
   },
   "file_extension": ".py",
   "mimetype": "text/x-python",
   "name": "python",
   "nbconvert_exporter": "python",
   "pygments_lexer": "ipython3",
   "version": "3.10.11"
  }
 },
 "nbformat": 4,
 "nbformat_minor": 4
}
